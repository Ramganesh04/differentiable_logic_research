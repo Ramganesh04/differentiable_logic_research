{
 "cells": [
  {
   "cell_type": "code",
   "execution_count": 17,
   "id": "34b71893",
   "metadata": {},
   "outputs": [],
   "source": [
    "BATCH_SIZE = 128\n",
    "GATE_OPTIMIZER = 'softmax'\n",
    "NETWORK_OPTIMIZER_LR = 0.01\n",
    "GUMBEL_TAU = 0.25\n",
    "GROUP_SUM_TAU = 30\n",
    "NETWORK_LAYERS = 12\n",
    "GATES_PER_NETWORK = 32_000\n",
    "LOSS = 'cross_entropy'\n",
    "EPOCHS = 20\n",
    "SUB_EPOCHS = 50 ## total epochs = 20*50 = 1000"
   ]
  },
  {
   "cell_type": "code",
   "execution_count": 18,
   "id": "98465424",
   "metadata": {},
   "outputs": [],
   "source": [
    "import torch\n",
    "from torch import nn\n",
    "from difflogic import LogicLayer, GroupSum\n",
    "\n",
    "device = torch.device('cuda')\n",
    "\n",
    "model = torch.nn.Sequential(\n",
    "    torch.nn.Flatten(),\n",
    "    LogicLayer(784,GATES_PER_NETWORK,device='cuda',implementation='cuda',gate_function=GATE_OPTIMIZER,gumbel_tau=GUMBEL_TAU),\n",
    "    LogicLayer(GATES_PER_NETWORK,GATES_PER_NETWORK,device='cuda',implementation='cuda',gate_function=GATE_OPTIMIZER,gumbel_tau=GUMBEL_TAU),\n",
    "    LogicLayer(GATES_PER_NETWORK,GATES_PER_NETWORK,device='cuda',implementation='cuda',gate_function=GATE_OPTIMIZER,gumbel_tau=GUMBEL_TAU),\n",
    "    LogicLayer(GATES_PER_NETWORK,GATES_PER_NETWORK,device='cuda',implementation='cuda',gate_function=GATE_OPTIMIZER,gumbel_tau=GUMBEL_TAU),\n",
    "    LogicLayer(GATES_PER_NETWORK,GATES_PER_NETWORK,device='cuda',implementation='cuda',gate_function=GATE_OPTIMIZER,gumbel_tau=GUMBEL_TAU),\n",
    "    LogicLayer(GATES_PER_NETWORK,GATES_PER_NETWORK,device='cuda',implementation='cuda',gate_function=GATE_OPTIMIZER,gumbel_tau=GUMBEL_TAU),\n",
    "    LogicLayer(GATES_PER_NETWORK,GATES_PER_NETWORK,device='cuda',implementation='cuda',gate_function=GATE_OPTIMIZER,gumbel_tau=GUMBEL_TAU),\n",
    "    LogicLayer(GATES_PER_NETWORK,GATES_PER_NETWORK,device='cuda',implementation='cuda',gate_function=GATE_OPTIMIZER,gumbel_tau=GUMBEL_TAU),\n",
    "    LogicLayer(GATES_PER_NETWORK,GATES_PER_NETWORK,device='cuda',implementation='cuda',gate_function=GATE_OPTIMIZER,gumbel_tau=GUMBEL_TAU),\n",
    "   GroupSum(10,tau=GROUP_SUM_TAU)\n",
    ")"
   ]
  },
  {
   "cell_type": "code",
   "execution_count": null,
   "id": "f7f3480a",
   "metadata": {},
   "outputs": [],
   "source": []
  },
  {
   "cell_type": "code",
   "execution_count": 19,
   "id": "de29ab5a",
   "metadata": {},
   "outputs": [
    {
     "data": {
      "text/plain": [
       "784"
      ]
     },
     "execution_count": 19,
     "metadata": {},
     "output_type": "execute_result"
    }
   ],
   "source": [
    "28*(28)"
   ]
  },
  {
   "cell_type": "code",
   "execution_count": 20,
   "id": "169e34e2",
   "metadata": {},
   "outputs": [],
   "source": [
    "loss_epoch = []"
   ]
  },
  {
   "cell_type": "code",
   "execution_count": 21,
   "id": "384fad9b",
   "metadata": {},
   "outputs": [
    {
     "data": {
      "text/plain": [
       "torch.Size([784, 1, 28, 28])"
      ]
     },
     "execution_count": 21,
     "metadata": {},
     "output_type": "execute_result"
    }
   ],
   "source": [
    "x.shape"
   ]
  },
  {
   "cell_type": "code",
   "execution_count": 22,
   "id": "18f5ae5d",
   "metadata": {},
   "outputs": [
    {
     "name": "stdout",
     "output_type": "stream",
     "text": [
      "Epoch 1 done. 2.3235907554626465\n",
      "Epoch 2 done. 2.174541711807251\n",
      "Epoch 3 done. 1.1390422582626343\n",
      "Epoch 4 done. 0.6207031607627869\n",
      "Epoch 5 done. 0.6586804389953613\n",
      "Epoch 6 done. 0.5571523904800415\n",
      "Epoch 7 done. 0.37203577160835266\n",
      "Epoch 8 done. 0.4956870973110199\n",
      "Epoch 9 done. 0.353456974029541\n",
      "Epoch 10 done. 0.2877153158187866\n",
      "Epoch 11 done. 0.2383996993303299\n",
      "Epoch 12 done. 0.3450678586959839\n",
      "Epoch 13 done. 0.33560797572135925\n",
      "Epoch 14 done. 0.4004898965358734\n"
     ]
    },
    {
     "name": "stderr",
     "output_type": "stream",
     "text": [
      "Exception in thread Thread-42 (_pin_memory_loop):\n",
      "Traceback (most recent call last):\n",
      "  File \"/usr/lib/python3.12/threading.py\", line 1073, in _bootstrap_inner\n",
      "    self.run()\n",
      "  File \"/home/ramganeshs/.venv/lib/python3.12/site-packages/ipykernel/ipkernel.py\", line 766, in run_closure\n",
      "    _threading_Thread_run(self)\n",
      "  File \"/usr/lib/python3.12/threading.py\", line 1010, in run\n",
      "    self._target(*self._args, **self._kwargs)\n",
      "  File \"/home/ramganeshs/.venv/lib/python3.12/site-packages/torch/utils/data/_utils/pin_memory.py\", line 55, in _pin_memory_loop\n",
      "    do_one_step()\n",
      "  File \"/home/ramganeshs/.venv/lib/python3.12/site-packages/torch/utils/data/_utils/pin_memory.py\", line 32, in do_one_step\n",
      "    r = in_queue.get(timeout=MP_STATUS_CHECK_INTERVAL)\n",
      "        ^^^^^^^^^^^^^^^^^^^^^^^^^^^^^^^^^^^^^^^^^^^^^^\n",
      "  File \"/usr/lib/python3.12/multiprocessing/queues.py\", line 122, in get\n",
      "    return _ForkingPickler.loads(res)\n",
      "           ^^^^^^^^^^^^^^^^^^^^^^^^^^\n",
      "  File \"/home/ramganeshs/.venv/lib/python3.12/site-packages/torch/multiprocessing/reductions.py\", line 496, in rebuild_storage_fd\n",
      "    fd = df.detach()\n",
      "         ^^^^^^^^^^^\n",
      "  File \"/usr/lib/python3.12/multiprocessing/resource_sharer.py\", line 57, in detach\n",
      "    with _resource_sharer.get_connection(self._id) as conn:\n",
      "         ^^^^^^^^^^^^^^^^^^^^^^^^^^^^^^^^^^^^^^^^^\n",
      "  File \"/usr/lib/python3.12/multiprocessing/resource_sharer.py\", line 86, in get_connection\n",
      "    c = Client(address, authkey=process.current_process().authkey)\n",
      "        ^^^^^^^^^^^^^^^^^^^^^^^^^^^^^^^^^^^^^^^^^^^^^^^^^^^^^^^^^^\n",
      "  File \"/usr/lib/python3.12/multiprocessing/connection.py\", line 519, in Client\n",
      "    c = SocketClient(address)\n",
      "        ^^^^^^^^^^^^^^^^^^^^^\n",
      "  File \"/usr/lib/python3.12/multiprocessing/connection.py\", line 647, in SocketClient\n",
      "    s.connect(address)\n",
      "FileNotFoundError: [Errno 2] No such file or directory\n"
     ]
    },
    {
     "ename": "KeyboardInterrupt",
     "evalue": "",
     "output_type": "error",
     "traceback": [
      "\u001b[0;31m---------------------------------------------------------------------------\u001b[0m",
      "\u001b[0;31mKeyboardInterrupt\u001b[0m                         Traceback (most recent call last)",
      "Cell \u001b[0;32mIn[22], line 27\u001b[0m\n\u001b[1;32m     25\u001b[0m     loss \u001b[38;5;241m=\u001b[39m criterion(logits, y)\n\u001b[1;32m     26\u001b[0m     losse \u001b[38;5;241m=\u001b[39m loss\n\u001b[0;32m---> 27\u001b[0m     \u001b[43mloss\u001b[49m\u001b[38;5;241;43m.\u001b[39;49m\u001b[43mbackward\u001b[49m\u001b[43m(\u001b[49m\u001b[43m)\u001b[49m\n\u001b[1;32m     28\u001b[0m     optimizer\u001b[38;5;241m.\u001b[39mstep()\n\u001b[1;32m     29\u001b[0m loss_epoch\u001b[38;5;241m.\u001b[39mappend(losse\u001b[38;5;241m.\u001b[39mdetach()\u001b[38;5;241m.\u001b[39mitem())\n",
      "File \u001b[0;32m~/.venv/lib/python3.12/site-packages/torch/_tensor.py:521\u001b[0m, in \u001b[0;36mTensor.backward\u001b[0;34m(self, gradient, retain_graph, create_graph, inputs)\u001b[0m\n\u001b[1;32m    511\u001b[0m \u001b[38;5;28;01mif\u001b[39;00m has_torch_function_unary(\u001b[38;5;28mself\u001b[39m):\n\u001b[1;32m    512\u001b[0m     \u001b[38;5;28;01mreturn\u001b[39;00m handle_torch_function(\n\u001b[1;32m    513\u001b[0m         Tensor\u001b[38;5;241m.\u001b[39mbackward,\n\u001b[1;32m    514\u001b[0m         (\u001b[38;5;28mself\u001b[39m,),\n\u001b[0;32m   (...)\u001b[0m\n\u001b[1;32m    519\u001b[0m         inputs\u001b[38;5;241m=\u001b[39minputs,\n\u001b[1;32m    520\u001b[0m     )\n\u001b[0;32m--> 521\u001b[0m \u001b[43mtorch\u001b[49m\u001b[38;5;241;43m.\u001b[39;49m\u001b[43mautograd\u001b[49m\u001b[38;5;241;43m.\u001b[39;49m\u001b[43mbackward\u001b[49m\u001b[43m(\u001b[49m\n\u001b[1;32m    522\u001b[0m \u001b[43m    \u001b[49m\u001b[38;5;28;43mself\u001b[39;49m\u001b[43m,\u001b[49m\u001b[43m \u001b[49m\u001b[43mgradient\u001b[49m\u001b[43m,\u001b[49m\u001b[43m \u001b[49m\u001b[43mretain_graph\u001b[49m\u001b[43m,\u001b[49m\u001b[43m \u001b[49m\u001b[43mcreate_graph\u001b[49m\u001b[43m,\u001b[49m\u001b[43m \u001b[49m\u001b[43minputs\u001b[49m\u001b[38;5;241;43m=\u001b[39;49m\u001b[43minputs\u001b[49m\n\u001b[1;32m    523\u001b[0m \u001b[43m\u001b[49m\u001b[43m)\u001b[49m\n",
      "File \u001b[0;32m~/.venv/lib/python3.12/site-packages/torch/autograd/__init__.py:289\u001b[0m, in \u001b[0;36mbackward\u001b[0;34m(tensors, grad_tensors, retain_graph, create_graph, grad_variables, inputs)\u001b[0m\n\u001b[1;32m    284\u001b[0m     retain_graph \u001b[38;5;241m=\u001b[39m create_graph\n\u001b[1;32m    286\u001b[0m \u001b[38;5;66;03m# The reason we repeat the same comment below is that\u001b[39;00m\n\u001b[1;32m    287\u001b[0m \u001b[38;5;66;03m# some Python versions print out the first line of a multi-line function\u001b[39;00m\n\u001b[1;32m    288\u001b[0m \u001b[38;5;66;03m# calls in the traceback and some print out the last line\u001b[39;00m\n\u001b[0;32m--> 289\u001b[0m \u001b[43m_engine_run_backward\u001b[49m\u001b[43m(\u001b[49m\n\u001b[1;32m    290\u001b[0m \u001b[43m    \u001b[49m\u001b[43mtensors\u001b[49m\u001b[43m,\u001b[49m\n\u001b[1;32m    291\u001b[0m \u001b[43m    \u001b[49m\u001b[43mgrad_tensors_\u001b[49m\u001b[43m,\u001b[49m\n\u001b[1;32m    292\u001b[0m \u001b[43m    \u001b[49m\u001b[43mretain_graph\u001b[49m\u001b[43m,\u001b[49m\n\u001b[1;32m    293\u001b[0m \u001b[43m    \u001b[49m\u001b[43mcreate_graph\u001b[49m\u001b[43m,\u001b[49m\n\u001b[1;32m    294\u001b[0m \u001b[43m    \u001b[49m\u001b[43minputs\u001b[49m\u001b[43m,\u001b[49m\n\u001b[1;32m    295\u001b[0m \u001b[43m    \u001b[49m\u001b[43mallow_unreachable\u001b[49m\u001b[38;5;241;43m=\u001b[39;49m\u001b[38;5;28;43;01mTrue\u001b[39;49;00m\u001b[43m,\u001b[49m\n\u001b[1;32m    296\u001b[0m \u001b[43m    \u001b[49m\u001b[43maccumulate_grad\u001b[49m\u001b[38;5;241;43m=\u001b[39;49m\u001b[38;5;28;43;01mTrue\u001b[39;49;00m\u001b[43m,\u001b[49m\n\u001b[1;32m    297\u001b[0m \u001b[43m\u001b[49m\u001b[43m)\u001b[49m\n",
      "File \u001b[0;32m~/.venv/lib/python3.12/site-packages/torch/autograd/graph.py:768\u001b[0m, in \u001b[0;36m_engine_run_backward\u001b[0;34m(t_outputs, *args, **kwargs)\u001b[0m\n\u001b[1;32m    766\u001b[0m     unregister_hooks \u001b[38;5;241m=\u001b[39m _register_logging_hooks_on_whole_graph(t_outputs)\n\u001b[1;32m    767\u001b[0m \u001b[38;5;28;01mtry\u001b[39;00m:\n\u001b[0;32m--> 768\u001b[0m     \u001b[38;5;28;01mreturn\u001b[39;00m \u001b[43mVariable\u001b[49m\u001b[38;5;241;43m.\u001b[39;49m\u001b[43m_execution_engine\u001b[49m\u001b[38;5;241;43m.\u001b[39;49m\u001b[43mrun_backward\u001b[49m\u001b[43m(\u001b[49m\u001b[43m  \u001b[49m\u001b[38;5;66;43;03m# Calls into the C++ engine to run the backward pass\u001b[39;49;00m\n\u001b[1;32m    769\u001b[0m \u001b[43m        \u001b[49m\u001b[43mt_outputs\u001b[49m\u001b[43m,\u001b[49m\u001b[43m \u001b[49m\u001b[38;5;241;43m*\u001b[39;49m\u001b[43margs\u001b[49m\u001b[43m,\u001b[49m\u001b[43m \u001b[49m\u001b[38;5;241;43m*\u001b[39;49m\u001b[38;5;241;43m*\u001b[39;49m\u001b[43mkwargs\u001b[49m\n\u001b[1;32m    770\u001b[0m \u001b[43m    \u001b[49m\u001b[43m)\u001b[49m  \u001b[38;5;66;03m# Calls into the C++ engine to run the backward pass\u001b[39;00m\n\u001b[1;32m    771\u001b[0m \u001b[38;5;28;01mfinally\u001b[39;00m:\n\u001b[1;32m    772\u001b[0m     \u001b[38;5;28;01mif\u001b[39;00m attach_logging_hooks:\n",
      "\u001b[0;31mKeyboardInterrupt\u001b[0m: "
     ]
    }
   ],
   "source": [
    "import torch\n",
    "from torch.utils.data import DataLoader\n",
    "from torchvision import datasets, transforms\n",
    "\n",
    "transform = transforms.Compose([\n",
    "    transforms.ToTensor(),  # returns float in [0,1]\n",
    "])\n",
    "\n",
    "train_ds = datasets.MNIST(root='./data', train=True, download=True, transform=transform)\n",
    "train_loader = DataLoader(train_ds, batch_size=256, shuffle=True, num_workers=4, pin_memory=True)\n",
    "\n",
    "criterion = nn.CrossEntropyLoss()\n",
    "optimizer = torch.optim.Adam(model.parameters(), lr=0.01)  # difflogic recommends 0.01\n",
    "\n",
    "model.train()\n",
    "epochs = 50\n",
    "for epoch in range(epochs):\n",
    "    losse = 0\n",
    "    for x, y in train_loader:\n",
    "        x = x.to(device, non_blocking=True)\n",
    "        y = y.to(device, non_blocking=True)\n",
    "\n",
    "        optimizer.zero_grad()\n",
    "        logits = model(x)\n",
    "        loss = criterion(logits, y)\n",
    "        losse = loss\n",
    "        loss.backward()\n",
    "        optimizer.step()\n",
    "    loss_epoch.append(losse.detach().item())\n",
    "    print(f\"Epoch {epoch+1} done. {loss_epoch[-1]}\")\n"
   ]
  },
  {
   "cell_type": "code",
   "execution_count": null,
   "id": "ee8000b6",
   "metadata": {},
   "outputs": [
    {
     "name": "stdout",
     "output_type": "stream",
     "text": [
      "Epoch 1 done. 2.323890447616577\n",
      "Epoch 2 done. 2.2858309745788574\n",
      "Epoch 3 done. 2.3290531635284424\n",
      "Epoch 4 done. 2.310992479324341\n",
      "Epoch 5 done. 2.28647518157959\n",
      "Epoch 6 done. 2.3257126808166504\n",
      "Epoch 7 done. 2.3102476596832275\n",
      "Epoch 8 done. 2.3540709018707275\n",
      "Epoch 9 done. 2.390166997909546\n",
      "Epoch 10 done. 2.311016798019409\n",
      "Epoch 11 done. 2.30014705657959\n",
      "Epoch 12 done. 2.306082248687744\n",
      "Epoch 13 done. 2.280499219894409\n",
      "Epoch 14 done. 2.274103879928589\n",
      "Epoch 15 done. 2.269540548324585\n",
      "Epoch 16 done. 2.2692179679870605\n",
      "Epoch 17 done. 2.2293505668640137\n",
      "Epoch 18 done. 2.2156360149383545\n",
      "Epoch 19 done. 2.1674306392669678\n",
      "Epoch 20 done. 2.1247828006744385\n"
     ]
    }
   ],
   "source": [
    "import torch\n",
    "from torch.utils.data import DataLoader\n",
    "from torchvision import datasets, transforms\n",
    "\n",
    "transform = transforms.Compose([\n",
    "    transforms.ToTensor(),  # returns float in [0,1]\n",
    "])\n",
    "\n",
    "train_ds = datasets.MNIST(root='./data', train=True, download=True, transform=transform)\n",
    "train_loader = DataLoader(train_ds, batch_size=256, shuffle=True, num_workers=4, pin_memory=True)\n",
    "\n",
    "criterion = nn.CrossEntropyLoss()\n",
    "optimizer = torch.optim.Adam(model.parameters(), lr=0.01)  # difflogic recommends 0.01\n",
    "\n",
    "model.train()\n",
    "loss_epoch = []\n",
    "epochs = 20\n",
    "for epoch in range(epochs):\n",
    "    losse = 0\n",
    "    for x, y in train_loader:\n",
    "        x = x.to(device, non_blocking=True)\n",
    "        y = y.to(device, non_blocking=True)\n",
    "\n",
    "        optimizer.zero_grad()\n",
    "        logits = model(x)\n",
    "        loss = criterion(logits, y)\n",
    "        losse = loss\n",
    "        loss.backward()\n",
    "        optimizer.step()\n",
    "    loss_epoch.append(losse.detach().item())\n",
    "    print(f\"Epoch {epoch+1} done. {loss_epoch[-1]}\")\n"
   ]
  },
  {
   "cell_type": "code",
   "execution_count": null,
   "id": "e08ea479",
   "metadata": {},
   "outputs": [
    {
     "data": {
      "image/png": "[encoded data removed]",
      "text/plain": [
       "<Figure size 700x400 with 1 Axes>"
      ]
     },
     "metadata": {},
     "output_type": "display_data"
    }
   ],
   "source": [
    "import matplotlib.pyplot as plt\n",
    "import numpy as np\n",
    "\n",
    "steps = np.arange(1, len(loss_epoch) + 1)\n",
    "\n",
    "plt.figure(figsize=(7, 4))\n",
    "plt.plot(steps, loss_epoch, marker='o', linewidth=1.8, markersize=4, label='Loss')\n",
    "plt.title('Training Loss per Step. gumbel softmax tau 1 5l size 128k}')\n",
    "plt.xlabel('Step')\n",
    "plt.ylabel('Loss')\n",
    "plt.grid(True, linestyle='--', alpha=0.4)\n",
    "plt.legend()\n",
    "plt.tight_layout()\n",
    "plt.show()\n"
   ]
  },
  {
   "cell_type": "code",
   "execution_count": null,
   "id": "e16916a8",
   "metadata": {},
   "outputs": [],
   "source": []
  },
  {
   "cell_type": "code",
   "execution_count": 26,
   "id": "09490632",
   "metadata": {},
   "outputs": [],
   "source": [
    "from difflogic.packbitstensor import PackBitsTensor\n",
    "import numpy as np\n",
    "import time\n",
    "def packbits_eval(model, loader):\n",
    "    orig_mode = model.training\n",
    "    start = time.perf_counter()\n",
    "    with torch.no_grad():\n",
    "        model.eval()\n",
    "        res = np.mean(\n",
    "            [\n",
    "                (model(PackBitsTensor(x.to('cuda').reshape(x.shape[0], -1).round().bool())).argmax(-1) == y.to(\n",
    "                    'cuda')).to(torch.float32).mean().item()\n",
    "                for x, y in loader\n",
    "            ]\n",
    "        )\n",
    "        model.train(mode=orig_mode)\n",
    "    elapsed = time.perf_counter() - start\n",
    "    throughput = 10_000 / elapsed\n",
    "    print(f\"throughput : {throughput : .1f}/s\")\n",
    "    return res.item()\n",
    "\n",
    "\n"
   ]
  },
  {
   "cell_type": "code",
   "execution_count": 27,
   "id": "d50946f9",
   "metadata": {},
   "outputs": [
    {
     "name": "stdout",
     "output_type": "stream",
     "text": [
      "throughput :  22712.3/s\n"
     ]
    },
    {
     "data": {
      "text/plain": [
       "0.807220584154129"
      ]
     },
     "execution_count": 27,
     "metadata": {},
     "output_type": "execute_result"
    }
   ],
   "source": [
    "packbits_eval(model,test_loader)"
   ]
  },
  {
   "cell_type": "code",
   "execution_count": 25,
   "id": "db1e02d2",
   "metadata": {},
   "outputs": [
    {
     "name": "stdout",
     "output_type": "stream",
     "text": [
      "Inference throughput (float inputs, eval-mode): 21401.5 images/s\n",
      "Accuracy: 80.76%\n",
      "Error rate: 19.24%\n"
     ]
    }
   ],
   "source": [
    "import torch\n",
    "import time\n",
    "from torchvision import datasets, transforms\n",
    "\n",
    "model.eval()\n",
    "torch.cuda.synchronize()\n",
    "\n",
    "test_ds = datasets.MNIST(root='./data', train=False, download=True,\n",
    "                         transform=transforms.ToTensor())\n",
    "test_loader = torch.utils.data.DataLoader(\n",
    "    test_ds, batch_size=1024, shuffle=False, num_workers=4, pin_memory=True\n",
    ")\n",
    "\n",
    "# Warm-up\n",
    "with torch.inference_mode():\n",
    "    for i, (x, _) in enumerate(test_loader):\n",
    "        x = x.to('cuda', non_blocking=True)\n",
    "        _ = model(x)\n",
    "        if i >= 2:\n",
    "            break\n",
    "torch.cuda.synchronize()\n",
    "# Timed run with accuracy\n",
    "total_images = 0\n",
    "correct = 0\n",
    "\n",
    "start = time.perf_counter()\n",
    "with torch.inference_mode():\n",
    "    for x, y in test_loader:\n",
    "        x = x.to('cuda', non_blocking=True)\n",
    "        y = y.to('cuda', non_blocking=True)\n",
    "        logits = model(x)\n",
    "        preds = logits.argmax(dim=1)\n",
    "        correct += (preds == y).sum().item()\n",
    "        total_images += x.size(0)\n",
    "\n",
    "torch.cuda.synchronize()\n",
    "elapsed = time.perf_counter() - start\n",
    "throughput = 10000 / elapsed\n",
    "accuracy = correct / total_images\n",
    "error_rate = 1.0 - accuracy\n",
    "\n",
    "print(f\"Inference throughput (float inputs, eval-mode): {throughput:.1f} images/s\")\n",
    "print(f\"Accuracy: {accuracy*100:.2f}%\")\n",
    "print(f\"Error rate: {error_rate*100:.2f}%\")\n"
   ]
  },
  {
   "cell_type": "markdown",
   "id": "008a2370",
   "metadata": {},
   "source": [
    "## compiling model into c code for cpu inference\n"
   ]
  },
  {
   "cell_type": "code",
   "execution_count": 135,
   "id": "4581c85e",
   "metadata": {},
   "outputs": [],
   "source": [
    "import torch\n",
    "from torch import nn\n",
    "from difflogic import LogicLayer, GroupSum\n",
    "\n",
    "device = torch.device('cuda')\n",
    "\n",
    "model = nn.Sequential(\n",
    "    nn.Flatten(),\n",
    "    LogicLayer(784,  8000, device='cuda', implementation='cuda'),\n",
    "    LogicLayer(8000, 8000, device='cuda', implementation='cuda'),\n",
    "    LogicLayer(8000, 8000, device='cuda', implementation='cuda'),\n",
    "    LogicLayer(8000, 8000, device='cuda', implementation='cuda'),\n",
    "    LogicLayer(8000, 8000, device='cuda', implementation='cuda'),\n",
    "   GroupSum(k=10, tau=30)\n",
    ").to(device)"
   ]
  },
  {
   "cell_type": "code",
   "execution_count": 136,
   "id": "d89c4278",
   "metadata": {},
   "outputs": [
    {
     "name": "stdout",
     "output_type": "stream",
     "text": [
      "Skipping torch.nn.Flatten layer (<class 'torch.nn.modules.flatten.Flatten'>).\n",
      "Skipping GroupSum layer (<class 'difflogic.difflogic.GroupSum'>).\n",
      "`layers` created and has 5 layers.\n"
     ]
    }
   ],
   "source": [
    "import difflogic\n",
    "\n",
    "compiled_model = difflogic.CompiledLogicNet(\n",
    "    model=model,            # the trained model (should be a `torch.nn.Sequential` with `LogicLayer`s)\n",
    "    num_bits=64,            # the number of bits of the datatype used for inference (typically 64 is fastest, should not be larger than batch size)\n",
    "    cpu_compiler='gcc',     # the compiler to use for the c code (alternative: clang)\n",
    "    verbose=True            \n",
    ")"
   ]
  },
  {
   "cell_type": "code",
   "execution_count": 137,
   "id": "94e97d48",
   "metadata": {},
   "outputs": [
    {
     "name": "stdout",
     "output_type": "stream",
     "text": [
      "Skipping torch.nn.Flatten layer (<class 'torch.nn.modules.flatten.Flatten'>).\n",
      "Skipping GroupSum layer (<class 'difflogic.difflogic.GroupSum'>).\n",
      "`layers` created and has 5 layers.\n",
      "C code created and has 40062 lines. (temp location /tmp/tmpldlo99k4.c)\n",
      "Compiling finished in 34.717 seconds.\n",
      "lib_file copied from /tmp/tmpg5mulzny.so to mnist_softmax_16k_5l_tau_1_epoch_20.so .\n"
     ]
    }
   ],
   "source": [
    "import difflogic\n",
    "\n",
    "compiled_model = difflogic.CompiledLogicNet(\n",
    "    model=model,            # the trained model (should be a `torch.nn.Sequential` with `LogicLayer`s)\n",
    "    num_bits=64,            # the number of bits of the datatype used for inference (typically 64 is fastest, should not be larger than batch size)\n",
    "    cpu_compiler='gcc',     # the compiler to use for the c code (alternative: clang)\n",
    "    verbose=True            \n",
    ")\n",
    "compiled_model.compile(\n",
    "    save_lib_path='mnist_softmax_16k_5l_tau_1_epoch_20.so',  # the (optional) location for storing the binary such that it can be reus\n",
    "    verbose=True,\n",
    ")"
   ]
  },
  {
   "cell_type": "code",
   "execution_count": 138,
   "id": "bc76f078",
   "metadata": {},
   "outputs": [],
   "source": [
    "xs, ys = [],[]\n",
    "for imgs, labels in test_loader:\n",
    "    xs.append(imgs)\n",
    "    ys.append(labels)\n",
    "X = torch.cat(xs, dim=0).cpu().bool().numpy()\n",
    "y = torch.cat(ys, dim=0).cpu().numpy()"
   ]
  },
  {
   "cell_type": "code",
   "execution_count": 139,
   "id": "8757e74b",
   "metadata": {},
   "outputs": [
    {
     "name": "stdout",
     "output_type": "stream",
     "text": [
      "Inference throughput: 710865.9 images/s\n",
      "ACC : 0.9347\n"
     ]
    }
   ],
   "source": [
    "import time\n",
    "import difflogic.compiled_model \n",
    "compiled_model = compiled_model.load('/home/ramganeshs/research/src/testing/models/mnist_softmax_8k_5l.so',10,64)\n",
    "start = time.perf_counter()\n",
    "output = compiled_model(X)\n",
    "elapsed = time.perf_counter() - start\n",
    "throughput = 10000 / elapsed\n",
    "print(f\"Inference throughput: {throughput:.1f} images/s\")\n",
    "crr = 0\n",
    "for i,out in enumerate(output):\n",
    "    val, idx = torch.max(out, dim=0)\n",
    "    if y[i] == idx:\n",
    "        crr += 1\n",
    "print(f\"ACC : {crr/10000}\")\n"
   ]
  },
  {
   "cell_type": "code",
   "execution_count": 140,
   "id": "86505beb",
   "metadata": {},
   "outputs": [
    {
     "name": "stdout",
     "output_type": "stream",
     "text": [
      "Using device: cuda\n",
      "Epoch 1: train_loss=0.0602 train_acc=0.9810 \n",
      "Epoch 2: train_loss=0.0277 train_acc=0.9922 \n",
      "Epoch 3: train_loss=0.0223 train_acc=0.9930 \n",
      "Inference throughput: 25428 images/sec\n",
      "test_loss=0.0409 test_acc=0.9867\n"
     ]
    }
   ],
   "source": [
    "import torch\n",
    "import torch.nn as nn\n",
    "import torch.nn.functional as F\n",
    "from torchvision import datasets, transforms\n",
    "from torch.utils.data import DataLoader\n",
    "\n",
    "# Config\n",
    "batch_size = 128\n",
    "epochs = 3\n",
    "lr = 1e-3\n",
    "device = torch.device(\"cuda\" if torch.cuda.is_available() else \"cpu\")\n",
    "print(f\"Using device: {device}\")\n",
    "\n",
    "# Data (MNIST 28x28 grayscale)\n",
    "transform = transforms.Compose([\n",
    "    transforms.ToTensor(),\n",
    "    transforms.Normalize((0.1307,), (0.3081,))\n",
    "])\n",
    "train_ds = datasets.MNIST(\"./data\", train=True, download=True, transform=transform)\n",
    "test_ds  = datasets.MNIST(\"./data\", train=False, download=True, transform=transform)\n",
    "train_loader = DataLoader(train_ds, batch_size=batch_size, shuffle=True, num_workers=2, pin_memory=True)\n",
    "test_loader  = DataLoader(test_ds,  batch_size=batch_size, shuffle=False, num_workers=2, pin_memory=True)\n",
    "\n",
    "# Simple CNN\n",
    "class CNN(nn.Module):\n",
    "    def __init__(self):\n",
    "        super().__init__()\n",
    "        self.c1 = nn.Conv2d(1, 16, 3, padding=1)   # 28x28 -> 28x28\n",
    "        self.c2 = nn.Conv2d(16, 32, 3, padding=1)  # 28x28 -> 28x28\n",
    "        self.p  = nn.MaxPool2d(2)                  # 28x28 -> 14x14\n",
    "        self.f1 = nn.Linear(32*14*14, 64)\n",
    "        self.f2 = nn.Linear(64, 10)\n",
    "    def forward(self, x):\n",
    "        x = F.relu(self.c1(x))\n",
    "        x = self.p(F.relu(self.c2(x)))\n",
    "        x = x.flatten(1)\n",
    "        x = F.relu(self.f1(x))\n",
    "        return self.f2(x)\n",
    "\n",
    "model = CNN().to(device)\n",
    "opt = torch.optim.Adam(model.parameters(), lr=lr)\n",
    "crit = nn.CrossEntropyLoss()\n",
    "\n",
    "def accuracy(logits, y):\n",
    "    return (logits.argmax(1) == y).float().mean().item()\n",
    "\n",
    "# Throughput helpers using CUDA events\n",
    "def measure_epoch_throughput(train_loader):\n",
    "    if device.type != \"cuda\":\n",
    "        return None\n",
    "    start = torch.cuda.Event(enable_timing=True)\n",
    "    end   = torch.cuda.Event(enable_timing=True)\n",
    "    total_images = 0\n",
    "    torch.cuda.synchronize()\n",
    "    start.record()\n",
    "    for x, y in train_loader:\n",
    "        x, y = x.to(device, non_blocking=True), y.to(device, non_blocking=True)\n",
    "        opt.zero_grad(set_to_none=True)\n",
    "        out = model(x)\n",
    "        loss = crit(out, y)\n",
    "        loss.backward()\n",
    "        opt.step()\n",
    "        total_images += x.size(0)\n",
    "    end.record()\n",
    "    torch.cuda.synchronize()\n",
    "    ms = start.elapsed_time(end)  # milliseconds\n",
    "    images_per_sec = total_images / (ms / 1000.0)\n",
    "    return images_per_sec\n",
    "\n",
    "def measure_inference_throughput(test_loader, warmup_batches=5):\n",
    "    if device.type != \"cuda\":\n",
    "        return None\n",
    "    # Warmup\n",
    "    with torch.no_grad():\n",
    "        for i, (x, _) in enumerate(test_loader):\n",
    "            x = x.to(device, non_blocking=True)\n",
    "            _ = model(x)\n",
    "            if i >= warmup_batches:\n",
    "                break\n",
    "    torch.cuda.synchronize()\n",
    "    start = torch.cuda.Event(enable_timing=True)\n",
    "    end   = torch.cuda.Event(enable_timing=True)\n",
    "    total_images = 0\n",
    "    start.record()\n",
    "    with torch.no_grad():\n",
    "        for x, _ in test_loader:\n",
    "            x = x.to(device, non_blocking=True)\n",
    "            _ = model(x)\n",
    "            total_images += x.size(0)\n",
    "    end.record()\n",
    "    torch.cuda.synchronize()\n",
    "    ms = start.elapsed_time(end)\n",
    "    images_per_sec = total_images / (ms / 1000.0)\n",
    "    return images_per_sec\n",
    "\n",
    "# Training loop\n",
    "for epoch in range(1, epochs + 1):\n",
    "    model.train()\n",
    "    train_loss = 0.0\n",
    "    train_acc = 0.0\n",
    "    n = 0\n",
    "\n",
    "    # Measure throughput over the whole epoch (train)\n",
    "    train_ips = measure_epoch_throughput(train_loader)\n",
    "\n",
    "    # After throughput pass, we already updated model; compute train stats quickly on a small subset\n",
    "    model.eval()\n",
    "    with torch.no_grad():\n",
    "        for i, (x, y) in enumerate(train_loader):\n",
    "            x, y = x.to(device, non_blocking=True), y.to(device, non_blocking=True)\n",
    "            out = model(x)\n",
    "            loss = crit(out, y)\n",
    "            train_loss += loss.item() * x.size(0)\n",
    "            train_acc += (out.argmax(1) == y).float().sum().item()\n",
    "            n += x.size(0)\n",
    "            if i >= 50:  # keep it light\n",
    "                break\n",
    "    train_loss /= n\n",
    "    train_acc /= n\n",
    "\n",
    "    # Eval accuracy on test set\n",
    "    test_loss = 0.0\n",
    "    test_acc = 0.0\n",
    "    m = 0\n",
    "    print(f\"Epoch {epoch}: \"\n",
    "          f\"train_loss={train_loss:.4f} train_acc={train_acc:.4f} \")\n",
    "\n",
    "\n",
    "with torch.no_grad():\n",
    "    for x, y in test_loader:\n",
    "        x, y = x.to(device, non_blocking=True), y.to(device, non_blocking=True)\n",
    "        out = model(x)\n",
    "        loss = crit(out, y)\n",
    "        test_loss += loss.item() * x.size(0)\n",
    "        test_acc  += (out.argmax(1) == y).float().sum().item()\n",
    "        m += x.size(0)\n",
    "test_loss /= m\n",
    "test_acc  /= m\n",
    "infer_ips = measure_inference_throughput(test_loader)\n",
    "print(f\"Inference throughput: {infer_ips:.0f} images/sec\")\n",
    "print(f\"test_loss={test_loss:.4f} test_acc={test_acc:.4f}\")\n"
   ]
  },
  {
   "cell_type": "code",
   "execution_count": null,
   "id": "f7b66ef4",
   "metadata": {},
   "outputs": [],
   "source": []
  }
 ],
 "metadata": {
  "kernelspec": {
   "display_name": ".venv",
   "language": "python",
   "name": "python3"
  },
  "language_info": {
   "codemirror_mode": {
    "name": "ipython",
    "version": 3
   },
   "file_extension": ".py",
   "mimetype": "text/x-python",
   "name": "python",
   "nbconvert_exporter": "python",
   "pygments_lexer": "ipython3",
   "version": "3.12.3"
  }
 },
 "nbformat": 4,
 "nbformat_minor": 5
}
