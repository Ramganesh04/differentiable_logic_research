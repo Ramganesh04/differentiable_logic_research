{
 "cells": [
  {
   "cell_type": "code",
   "execution_count": 314,
   "id": "7be18b47",
   "metadata": {},
   "outputs": [],
   "source": [
    "BATCH_SIZE       = 128\n",
    "GATE_OPTIMIZER   = 'sparsemax'   # 'softmax' | 'gumbel_softmax' | 'sparsemax'\n",
    "NETWORK_LR       = 0.01\n",
    "GUMBEL_TAU       = 0.5\n",
    "GROUP_SUM_TAU    = 100\n",
    "NETWORK_LAYERS   = 3\n",
    "GATES            = 15_000\n",
    "EPOCHS           = 2000\n",
    "NOISE_TEMP = 0.1\n",
    "RESIDUAL_LAYERS = 6\n",
    "LOG_CSV          = \"../logs/residual_cifar_run_logged.csv\"           # append-only\n",
    "from entmax import sparsemax"
   ]
  },
  {
   "cell_type": "code",
   "execution_count": 315,
   "id": "25ded181",
   "metadata": {},
   "outputs": [],
   "source": [
    "import csv\n",
    "with open(LOG_CSV, mode='r') as file:\n",
    "    csvFile = csv.DictReader(file)\n",
    "    for row in csvFile:\n",
    "        run_id = row['RUN_ID']\n",
    "    run_id = int(run_id)\n",
    "\n",
    "RUN_ID = run_id + 1\n"
   ]
  },
  {
   "cell_type": "code",
   "execution_count": 316,
   "id": "d9b5c45a",
   "metadata": {},
   "outputs": [
    {
     "data": {
      "text/plain": [
       "9"
      ]
     },
     "execution_count": 316,
     "metadata": {},
     "output_type": "execute_result"
    }
   ],
   "source": [
    "run_id"
   ]
  },
  {
   "cell_type": "code",
   "execution_count": 317,
   "id": "b07bb333",
   "metadata": {},
   "outputs": [],
   "source": [
    "\n",
    "import os, csv, json, time\n",
    "import torch\n",
    "from torch import nn\n",
    "from torch.utils.data import DataLoader\n",
    "from torchvision import datasets, transforms\n",
    "import matplotlib.pyplot as plt\n",
    "import numpy as np\n",
    "\n",
    "from difflogic import LogicLayer, GroupSum\n",
    "from difflogic.packbitstensor import PackBitsTensor\n"
   ]
  },
  {
   "cell_type": "code",
   "execution_count": 318,
   "id": "066cfcb7",
   "metadata": {},
   "outputs": [],
   "source": [
    "device = torch.device('cuda' if torch.cuda.is_available() else 'cpu')"
   ]
  },
  {
   "cell_type": "code",
   "execution_count": 319,
   "id": "4622b717",
   "metadata": {},
   "outputs": [
    {
     "name": "stdout",
     "output_type": "stream",
     "text": [
      "Files already downloaded and verified\n",
      "Files already downloaded and verified\n"
     ]
    }
   ],
   "source": [
    "\n",
    "# Note: The attached notebook uses CIFAR-10 with Normalize(0.5, 0.5, 0.5), keep the same to avoid deviating. \n",
    "transform = transforms.Compose([\n",
    "    transforms.ToTensor(),\n",
    "    transforms.Normalize((0.5,0.5,0.5), (0.5,0.5,0.5)),\n",
    "])\n",
    "\n",
    "train_ds = datasets.CIFAR10(root='../data', train=True,  download=True, transform=transform)\n",
    "test_ds  = datasets.CIFAR10(root='../data', train=False, download=True, transform=transform)\n",
    "\n",
    "train_loader = DataLoader(train_ds, batch_size=BATCH_SIZE, shuffle=True,  num_workers=4, pin_memory=True)\n",
    "test_loader  = DataLoader(test_ds,  batch_size=BATCH_SIZE, shuffle=False, num_workers=4, pin_memory=True)"
   ]
  },
  {
   "cell_type": "code",
   "execution_count": 320,
   "id": "a41b5c04",
   "metadata": {},
   "outputs": [],
   "source": [
    "def build_model(number_of_residual):\n",
    "    layers = [nn.Flatten(),\n",
    "              LogicLayer(3072, GATES, device='cuda', implementation='cuda',\n",
    "                         gate_function=GATE_OPTIMIZER, \n",
    "                         gumbel_tau=GUMBEL_TAU, \n",
    "                         residual=RESIDUAL_LAYERS > 0)]\n",
    "    for n in range(NETWORK_LAYERS - 1):\n",
    "        if n < number_of_residual-1:\n",
    "            layers.append(\n",
    "            LogicLayer(GATES, GATES, device='cuda', implementation='cuda',\n",
    "                       gate_function=GATE_OPTIMIZER, \n",
    "                       gumbel_tau=GUMBEL_TAU, \n",
    "                       residual=True)\n",
    "        )\n",
    "        else:\n",
    "            layers.append(\n",
    "                LogicLayer(GATES, GATES, device='cuda', implementation='cuda',\n",
    "                        gate_function=GATE_OPTIMIZER, \n",
    "                        gumbel_tau=GUMBEL_TAU, \n",
    "                        residual=False)\n",
    "            )\n",
    "    layers.append(GroupSum(10, tau=GROUP_SUM_TAU))\n",
    "    return nn.Sequential(*layers).to(device)\n",
    "\n",
    "model = build_model(4)\n",
    "criterion = nn.CrossEntropyLoss()\n",
    "optimizer = torch.optim.Adam(model.parameters(), lr=NETWORK_LR)"
   ]
  },
  {
   "cell_type": "code",
   "execution_count": 321,
   "id": "81b182ef",
   "metadata": {},
   "outputs": [],
   "source": [
    "@torch.no_grad()\n",
    "def eval_accuracy_float(model, loader, mode='eval'):\n",
    "    orig = model.training\n",
    "    model.train(mode == 'train')\n",
    "    total, correct = 0, 0\n",
    "    for x, y in loader:\n",
    "        x = x.to(device, non_blocking=True)\n",
    "        y = y.to(device, non_blocking=True)\n",
    "        logits = model(x)\n",
    "        pred = logits.argmax(dim=1)\n",
    "        correct += (pred == y).sum().item()\n",
    "        total += x.size(0)\n",
    "    model.train(orig)\n",
    "    return correct / max(1, total)\n",
    "\n",
    "def packbits_eval(model, loader):\n",
    "    orig_mode = model.training\n",
    "    start = time.perf_counter()\n",
    "    with torch.no_grad():\n",
    "        model.eval()\n",
    "        res = np.mean([\n",
    "            (\n",
    "                model(\n",
    "                    PackBitsTensor(\n",
    "                        x.to('cuda').reshape(x.shape[0], -1).round().bool()\n",
    "                    )\n",
    "                ).argmax(-1) == y.to('cuda')\n",
    "            ).to(torch.float32).mean().item()\n",
    "            for x, y in loader\n",
    "        ])\n",
    "    model.train(mode=orig_mode)\n",
    "    elapsed = time.perf_counter() - start\n",
    "    throughput = len(loader.dataset) / elapsed\n",
    "    print(f\"throughput : {throughput:.1f}/s\")\n",
    "    return float(res)\n"
   ]
  },
  {
   "cell_type": "code",
   "execution_count": 322,
   "id": "40686e73",
   "metadata": {},
   "outputs": [],
   "source": [
    "# ==== Append-safe CSV header ====\n",
    "fieldnames = [\n",
    "    \"epoch\", \"train_loss\", \"train_acc\",\n",
    "    \"float_eval_acc\", \"float_trainmode_acc\", \"discrete_acc\",\n",
    "    \"BATCH_SIZE\", \"GATE_OPTIMIZER\", \"NETWORK_LR\", \"GUMBEL_TAU\",\n",
    "    \"GROUP_SUM_TAU\", \"NETWORK_LAYERS\", \"GATES\", \"EPOCHS\", \"RESIDUAL_LAYERS\" , \"NOISE_TEMP\", \"RUN_ID\"\n",
    "]\n",
    "header_needed = (not os.path.exists(LOG_CSV)) or (os.path.getsize(LOG_CSV) == 0)\n",
    "with open(LOG_CSV, \"a\", newline=\"\") as f:\n",
    "    writer = csv.DictWriter(f, fieldnames=fieldnames)\n",
    "    if header_needed:\n",
    "        writer.writeheader()\n"
   ]
  },
  {
   "cell_type": "code",
   "execution_count": 323,
   "id": "f6b7a94f",
   "metadata": {},
   "outputs": [],
   "source": [
    "@torch.no_grad()\n",
    "def measure_discretization(model):\n",
    "    discretization_scores = []\n",
    "    for layer in model.modules():\n",
    "        if isinstance(layer, LogicLayer):\n",
    "            if layer.gate_function in ['sparsemax', 'sparsemax_noise']:\n",
    "                w = sparsemax(layer.weights, dim=-1)\n",
    "            else:\n",
    "                w = torch.nn.functional.softmax(layer.weights, dim=-1)\n",
    "            \n",
    "            max_probs = w.max(dim=-1)[0].mean().item()\n",
    "            discretization_scores.append(max_probs)\n",
    "    \n",
    "    return discretization_scores\n",
    "\n"
   ]
  },
  {
   "cell_type": "code",
   "execution_count": 324,
   "id": "cb6a1696",
   "metadata": {},
   "outputs": [],
   "source": [
    "def change_gate_optimizer(model, new_gate_optimizer,temp,gumbel_tau):\n",
    "    for module in model.modules():\n",
    "        if isinstance(module, LogicLayer):\n",
    "            module.gate_function = new_gate_optimizer\n",
    "            module.noise_temp = temp\n",
    "            module.gumbel_tau = gumbel_tau\n"
   ]
  },
  {
   "cell_type": "code",
   "execution_count": null,
   "id": "bce29e49",
   "metadata": {},
   "outputs": [],
   "source": [
    "GATE_OPTIMIZER = \"sparsemax_noise\"\n",
    "NOISE_TEMP = 0.2\n",
    "GUMBEL_TAU = 0.1\n",
    "change_gate_optimizer(model, GATE_OPTIMIZER,NOISE_TEMP, GUMBEL_TAU) \n"
   ]
  },
  {
   "cell_type": "code",
   "execution_count": 1,
   "id": "583a1d96",
   "metadata": {},
   "outputs": [],
   "source": [
    "eval_acc_hist = []\n",
    "disc_acc_hist = []\n"
   ]
  },
  {
   "cell_type": "code",
   "execution_count": 334,
   "id": "13e816d4",
   "metadata": {},
   "outputs": [],
   "source": [
    "last_epoch = -1"
   ]
  },
  {
   "cell_type": "code",
   "execution_count": 335,
   "id": "b70a1b0b",
   "metadata": {},
   "outputs": [
    {
     "name": "stdout",
     "output_type": "stream",
     "text": [
      "Epoch 1: train_loss=1.5258 train_acc=0.4842 eval_test_acc=0.4665 float_test_acc=0.4698\n",
      "Epoch 2: train_loss=1.5072 train_acc=0.4925 eval_test_acc=0.4603 float_test_acc=0.4692\n",
      "Epoch 3: train_loss=1.4981 train_acc=0.4961 eval_test_acc=0.4579 float_test_acc=0.4694\n",
      "Epoch 4: train_loss=1.4922 train_acc=0.4989 eval_test_acc=0.4657 float_test_acc=0.4690\n",
      "Epoch 5: train_loss=1.4869 train_acc=0.5005 eval_test_acc=0.4672 float_test_acc=0.4747\n",
      "Epoch 6: train_loss=1.4835 train_acc=0.5043 eval_test_acc=0.4686 float_test_acc=0.4731\n",
      "Epoch 7: train_loss=1.4804 train_acc=0.5042 eval_test_acc=0.4674 float_test_acc=0.4719\n",
      "Epoch 8: train_loss=1.4780 train_acc=0.5050 eval_test_acc=0.4692 float_test_acc=0.4747\n",
      "Epoch 9: train_loss=1.4759 train_acc=0.5049 eval_test_acc=0.4741 float_test_acc=0.4738\n",
      "Epoch 10: train_loss=1.4736 train_acc=0.5066 eval_test_acc=0.4730 float_test_acc=0.4748\n",
      "Epoch 11: train_loss=1.4731 train_acc=0.5073 eval_test_acc=0.4750 float_test_acc=0.4786\n",
      "Epoch 12: train_loss=1.4710 train_acc=0.5091 eval_test_acc=0.4740 float_test_acc=0.4777\n",
      "Epoch 13: train_loss=1.4695 train_acc=0.5083 eval_test_acc=0.4756 float_test_acc=0.4782\n",
      "Epoch 14: train_loss=1.4689 train_acc=0.5101 eval_test_acc=0.4696 float_test_acc=0.4755\n",
      "Epoch 15: train_loss=1.4673 train_acc=0.5104 eval_test_acc=0.4714 float_test_acc=0.4756\n",
      "Epoch 16: train_loss=1.4674 train_acc=0.5092 eval_test_acc=0.4727 float_test_acc=0.4774\n",
      "Epoch 17: train_loss=1.4663 train_acc=0.5101 eval_test_acc=0.4716 float_test_acc=0.4754\n",
      "Epoch 18: train_loss=1.4657 train_acc=0.5108 eval_test_acc=0.4709 float_test_acc=0.4781\n",
      "Epoch 19: train_loss=1.4650 train_acc=0.5113 eval_test_acc=0.4722 float_test_acc=0.4752\n",
      "Epoch 20: train_loss=1.4646 train_acc=0.5105 eval_test_acc=0.4737 float_test_acc=0.4773\n",
      "Epoch 21: train_loss=1.4640 train_acc=0.5107 eval_test_acc=0.4756 float_test_acc=0.4776\n",
      "Epoch 22: train_loss=1.4631 train_acc=0.5129 eval_test_acc=0.4738 float_test_acc=0.4765\n",
      "Epoch 23: train_loss=1.4626 train_acc=0.5119 eval_test_acc=0.4766 float_test_acc=0.4802\n",
      "Epoch 24: train_loss=1.4628 train_acc=0.5116 eval_test_acc=0.4773 float_test_acc=0.4784\n",
      "Epoch 25: train_loss=1.4623 train_acc=0.5134 eval_test_acc=0.4767 float_test_acc=0.4756\n",
      "Epoch 26: train_loss=1.4614 train_acc=0.5127 eval_test_acc=0.4778 float_test_acc=0.4778\n",
      "Epoch 27: train_loss=1.4614 train_acc=0.5125 eval_test_acc=0.4763 float_test_acc=0.4758\n",
      "Epoch 28: train_loss=1.4608 train_acc=0.5130 eval_test_acc=0.4786 float_test_acc=0.4785\n",
      "Epoch 29: train_loss=1.4605 train_acc=0.5129 eval_test_acc=0.4782 float_test_acc=0.4783\n",
      "Epoch 30: train_loss=1.4606 train_acc=0.5132 eval_test_acc=0.4768 float_test_acc=0.4771\n",
      "Epoch 31: train_loss=1.4600 train_acc=0.5135 eval_test_acc=0.4754 float_test_acc=0.4798\n",
      "Epoch 32: train_loss=1.4603 train_acc=0.5133 eval_test_acc=0.4814 float_test_acc=0.4798\n",
      "Epoch 33: train_loss=1.4591 train_acc=0.5136 eval_test_acc=0.4788 float_test_acc=0.4785\n",
      "Epoch 34: train_loss=1.4589 train_acc=0.5133 eval_test_acc=0.4779 float_test_acc=0.4780\n",
      "Epoch 35: train_loss=1.4589 train_acc=0.5124 eval_test_acc=0.4800 float_test_acc=0.4798\n",
      "Epoch 36: train_loss=1.4582 train_acc=0.5135 eval_test_acc=0.4811 float_test_acc=0.4806\n",
      "Epoch 37: train_loss=1.4581 train_acc=0.5141 eval_test_acc=0.4772 float_test_acc=0.4783\n",
      "Epoch 38: train_loss=1.4581 train_acc=0.5141 eval_test_acc=0.4778 float_test_acc=0.4779\n",
      "Epoch 39: train_loss=1.4580 train_acc=0.5147 eval_test_acc=0.4779 float_test_acc=0.4773\n",
      "Epoch 40: train_loss=1.4575 train_acc=0.5141 eval_test_acc=0.4770 float_test_acc=0.4778\n",
      "Epoch 41: train_loss=1.4569 train_acc=0.5147 eval_test_acc=0.4769 float_test_acc=0.4766\n",
      "Epoch 42: train_loss=1.4570 train_acc=0.5146 eval_test_acc=0.4772 float_test_acc=0.4768\n",
      "Epoch 43: train_loss=1.4569 train_acc=0.5143 eval_test_acc=0.4755 float_test_acc=0.4780\n",
      "Epoch 44: train_loss=1.4565 train_acc=0.5142 eval_test_acc=0.4805 float_test_acc=0.4789\n",
      "Epoch 45: train_loss=1.4566 train_acc=0.5151 eval_test_acc=0.4769 float_test_acc=0.4795\n",
      "Epoch 46: train_loss=1.4566 train_acc=0.5148 eval_test_acc=0.4780 float_test_acc=0.4790\n",
      "Epoch 47: train_loss=1.4561 train_acc=0.5146 eval_test_acc=0.4768 float_test_acc=0.4796\n",
      "Epoch 48: train_loss=1.4559 train_acc=0.5157 eval_test_acc=0.4796 float_test_acc=0.4800\n",
      "Epoch 49: train_loss=1.4559 train_acc=0.5141 eval_test_acc=0.4798 float_test_acc=0.4772\n",
      "Epoch 50: train_loss=1.4559 train_acc=0.5154 eval_test_acc=0.4770 float_test_acc=0.4759\n",
      "Epoch 51: train_loss=1.4558 train_acc=0.5156 eval_test_acc=0.4790 float_test_acc=0.4792\n",
      "Epoch 52: train_loss=1.4556 train_acc=0.5153 eval_test_acc=0.4769 float_test_acc=0.4794\n",
      "Epoch 53: train_loss=1.4559 train_acc=0.5155 eval_test_acc=0.4761 float_test_acc=0.4791\n",
      "Epoch 54: train_loss=1.4553 train_acc=0.5152 eval_test_acc=0.4789 float_test_acc=0.4798\n",
      "Epoch 55: train_loss=1.4558 train_acc=0.5147 eval_test_acc=0.4775 float_test_acc=0.4782\n",
      "Epoch 56: train_loss=1.4552 train_acc=0.5161 eval_test_acc=0.4772 float_test_acc=0.4796\n",
      "Epoch 57: train_loss=1.4556 train_acc=0.5152 eval_test_acc=0.4768 float_test_acc=0.4778\n",
      "Epoch 58: train_loss=1.4547 train_acc=0.5163 eval_test_acc=0.4780 float_test_acc=0.4801\n",
      "Epoch 59: train_loss=1.4551 train_acc=0.5153 eval_test_acc=0.4777 float_test_acc=0.4787\n",
      "Epoch 60: train_loss=1.4548 train_acc=0.5157 eval_test_acc=0.4795 float_test_acc=0.4798\n",
      "Epoch 61: train_loss=1.4549 train_acc=0.5158 eval_test_acc=0.4781 float_test_acc=0.4804\n",
      "Epoch 62: train_loss=1.4552 train_acc=0.5156 eval_test_acc=0.4811 float_test_acc=0.4810\n",
      "Epoch 63: train_loss=1.4543 train_acc=0.5158 eval_test_acc=0.4797 float_test_acc=0.4794\n",
      "Epoch 64: train_loss=1.4547 train_acc=0.5162 eval_test_acc=0.4779 float_test_acc=0.4778\n",
      "Epoch 65: train_loss=1.4544 train_acc=0.5165 eval_test_acc=0.4785 float_test_acc=0.4788\n",
      "Epoch 66: train_loss=1.4545 train_acc=0.5154 eval_test_acc=0.4754 float_test_acc=0.4811\n",
      "Epoch 67: train_loss=1.4545 train_acc=0.5161 eval_test_acc=0.4760 float_test_acc=0.4790\n",
      "Epoch 68: train_loss=1.4544 train_acc=0.5161 eval_test_acc=0.4774 float_test_acc=0.4790\n",
      "Epoch 69: train_loss=1.4542 train_acc=0.5156 eval_test_acc=0.4799 float_test_acc=0.4806\n",
      "Epoch 70: train_loss=1.4542 train_acc=0.5163 eval_test_acc=0.4787 float_test_acc=0.4805\n",
      "Epoch 71: train_loss=1.4540 train_acc=0.5154 eval_test_acc=0.4782 float_test_acc=0.4805\n",
      "Epoch 72: train_loss=1.4543 train_acc=0.5165 eval_test_acc=0.4752 float_test_acc=0.4797\n",
      "Epoch 73: train_loss=1.4541 train_acc=0.5159 eval_test_acc=0.4757 float_test_acc=0.4800\n",
      "Epoch 74: train_loss=1.4542 train_acc=0.5154 eval_test_acc=0.4766 float_test_acc=0.4782\n",
      "Epoch 75: train_loss=1.4539 train_acc=0.5164 eval_test_acc=0.4764 float_test_acc=0.4788\n",
      "Epoch 76: train_loss=1.4538 train_acc=0.5167 eval_test_acc=0.4778 float_test_acc=0.4791\n",
      "Epoch 77: train_loss=1.4541 train_acc=0.5159 eval_test_acc=0.4786 float_test_acc=0.4798\n",
      "Epoch 78: train_loss=1.4538 train_acc=0.5162 eval_test_acc=0.4786 float_test_acc=0.4791\n",
      "Epoch 79: train_loss=1.4534 train_acc=0.5165 eval_test_acc=0.4741 float_test_acc=0.4787\n",
      "Epoch 80: train_loss=1.4541 train_acc=0.5169 eval_test_acc=0.4753 float_test_acc=0.4806\n",
      "Epoch 81: train_loss=1.4538 train_acc=0.5162 eval_test_acc=0.4772 float_test_acc=0.4794\n",
      "Epoch 82: train_loss=1.4538 train_acc=0.5154 eval_test_acc=0.4805 float_test_acc=0.4810\n"
     ]
    },
    {
     "ename": "KeyboardInterrupt",
     "evalue": "",
     "output_type": "error",
     "traceback": [
      "\u001b[0;31m---------------------------------------------------------------------------\u001b[0m",
      "\u001b[0;31mKeyboardInterrupt\u001b[0m                         Traceback (most recent call last)",
      "Cell \u001b[0;32mIn[335], line 15\u001b[0m\n\u001b[1;32m     13\u001b[0m loss \u001b[38;5;241m=\u001b[39m criterion(logits, y)\n\u001b[1;32m     14\u001b[0m loss\u001b[38;5;241m.\u001b[39mbackward()\n\u001b[0;32m---> 15\u001b[0m \u001b[43moptimizer\u001b[49m\u001b[38;5;241;43m.\u001b[39;49m\u001b[43mstep\u001b[49m\u001b[43m(\u001b[49m\u001b[43m)\u001b[49m\n\u001b[1;32m     17\u001b[0m running_loss \u001b[38;5;241m+\u001b[39m\u001b[38;5;241m=\u001b[39m loss\u001b[38;5;241m.\u001b[39mitem() \u001b[38;5;241m*\u001b[39m x\u001b[38;5;241m.\u001b[39msize(\u001b[38;5;241m0\u001b[39m)\n\u001b[1;32m     18\u001b[0m correct \u001b[38;5;241m+\u001b[39m\u001b[38;5;241m=\u001b[39m (logits\u001b[38;5;241m.\u001b[39margmax(\u001b[38;5;241m1\u001b[39m) \u001b[38;5;241m==\u001b[39m y)\u001b[38;5;241m.\u001b[39msum()\u001b[38;5;241m.\u001b[39mitem()\n",
      "File \u001b[0;32m~/.venv/lib/python3.12/site-packages/torch/optim/optimizer.py:484\u001b[0m, in \u001b[0;36mOptimizer.profile_hook_step.<locals>.wrapper\u001b[0;34m(*args, **kwargs)\u001b[0m\n\u001b[1;32m    479\u001b[0m         \u001b[38;5;28;01melse\u001b[39;00m:\n\u001b[1;32m    480\u001b[0m             \u001b[38;5;28;01mraise\u001b[39;00m \u001b[38;5;167;01mRuntimeError\u001b[39;00m(\n\u001b[1;32m    481\u001b[0m                 \u001b[38;5;124mf\u001b[39m\u001b[38;5;124m\"\u001b[39m\u001b[38;5;132;01m{\u001b[39;00mfunc\u001b[38;5;132;01m}\u001b[39;00m\u001b[38;5;124m must return None or a tuple of (new_args, new_kwargs), but got \u001b[39m\u001b[38;5;132;01m{\u001b[39;00mresult\u001b[38;5;132;01m}\u001b[39;00m\u001b[38;5;124m.\u001b[39m\u001b[38;5;124m\"\u001b[39m\n\u001b[1;32m    482\u001b[0m             )\n\u001b[0;32m--> 484\u001b[0m out \u001b[38;5;241m=\u001b[39m \u001b[43mfunc\u001b[49m\u001b[43m(\u001b[49m\u001b[38;5;241;43m*\u001b[39;49m\u001b[43margs\u001b[49m\u001b[43m,\u001b[49m\u001b[43m \u001b[49m\u001b[38;5;241;43m*\u001b[39;49m\u001b[38;5;241;43m*\u001b[39;49m\u001b[43mkwargs\u001b[49m\u001b[43m)\u001b[49m\n\u001b[1;32m    485\u001b[0m \u001b[38;5;28mself\u001b[39m\u001b[38;5;241m.\u001b[39m_optimizer_step_code()\n\u001b[1;32m    487\u001b[0m \u001b[38;5;66;03m# call optimizer step post hooks\u001b[39;00m\n",
      "File \u001b[0;32m~/.venv/lib/python3.12/site-packages/torch/optim/optimizer.py:89\u001b[0m, in \u001b[0;36m_use_grad_for_differentiable.<locals>._use_grad\u001b[0;34m(self, *args, **kwargs)\u001b[0m\n\u001b[1;32m     87\u001b[0m     torch\u001b[38;5;241m.\u001b[39mset_grad_enabled(\u001b[38;5;28mself\u001b[39m\u001b[38;5;241m.\u001b[39mdefaults[\u001b[38;5;124m\"\u001b[39m\u001b[38;5;124mdifferentiable\u001b[39m\u001b[38;5;124m\"\u001b[39m])\n\u001b[1;32m     88\u001b[0m     torch\u001b[38;5;241m.\u001b[39m_dynamo\u001b[38;5;241m.\u001b[39mgraph_break()\n\u001b[0;32m---> 89\u001b[0m     ret \u001b[38;5;241m=\u001b[39m \u001b[43mfunc\u001b[49m\u001b[43m(\u001b[49m\u001b[38;5;28;43mself\u001b[39;49m\u001b[43m,\u001b[49m\u001b[43m \u001b[49m\u001b[38;5;241;43m*\u001b[39;49m\u001b[43margs\u001b[49m\u001b[43m,\u001b[49m\u001b[43m \u001b[49m\u001b[38;5;241;43m*\u001b[39;49m\u001b[38;5;241;43m*\u001b[39;49m\u001b[43mkwargs\u001b[49m\u001b[43m)\u001b[49m\n\u001b[1;32m     90\u001b[0m \u001b[38;5;28;01mfinally\u001b[39;00m:\n\u001b[1;32m     91\u001b[0m     torch\u001b[38;5;241m.\u001b[39m_dynamo\u001b[38;5;241m.\u001b[39mgraph_break()\n",
      "File \u001b[0;32m~/.venv/lib/python3.12/site-packages/torch/optim/adam.py:226\u001b[0m, in \u001b[0;36mAdam.step\u001b[0;34m(self, closure)\u001b[0m\n\u001b[1;32m    214\u001b[0m     beta1, beta2 \u001b[38;5;241m=\u001b[39m group[\u001b[38;5;124m\"\u001b[39m\u001b[38;5;124mbetas\u001b[39m\u001b[38;5;124m\"\u001b[39m]\n\u001b[1;32m    216\u001b[0m     has_complex \u001b[38;5;241m=\u001b[39m \u001b[38;5;28mself\u001b[39m\u001b[38;5;241m.\u001b[39m_init_group(\n\u001b[1;32m    217\u001b[0m         group,\n\u001b[1;32m    218\u001b[0m         params_with_grad,\n\u001b[0;32m   (...)\u001b[0m\n\u001b[1;32m    223\u001b[0m         state_steps,\n\u001b[1;32m    224\u001b[0m     )\n\u001b[0;32m--> 226\u001b[0m     \u001b[43madam\u001b[49m\u001b[43m(\u001b[49m\n\u001b[1;32m    227\u001b[0m \u001b[43m        \u001b[49m\u001b[43mparams_with_grad\u001b[49m\u001b[43m,\u001b[49m\n\u001b[1;32m    228\u001b[0m \u001b[43m        \u001b[49m\u001b[43mgrads\u001b[49m\u001b[43m,\u001b[49m\n\u001b[1;32m    229\u001b[0m \u001b[43m        \u001b[49m\u001b[43mexp_avgs\u001b[49m\u001b[43m,\u001b[49m\n\u001b[1;32m    230\u001b[0m \u001b[43m        \u001b[49m\u001b[43mexp_avg_sqs\u001b[49m\u001b[43m,\u001b[49m\n\u001b[1;32m    231\u001b[0m \u001b[43m        \u001b[49m\u001b[43mmax_exp_avg_sqs\u001b[49m\u001b[43m,\u001b[49m\n\u001b[1;32m    232\u001b[0m \u001b[43m        \u001b[49m\u001b[43mstate_steps\u001b[49m\u001b[43m,\u001b[49m\n\u001b[1;32m    233\u001b[0m \u001b[43m        \u001b[49m\u001b[43mamsgrad\u001b[49m\u001b[38;5;241;43m=\u001b[39;49m\u001b[43mgroup\u001b[49m\u001b[43m[\u001b[49m\u001b[38;5;124;43m\"\u001b[39;49m\u001b[38;5;124;43mamsgrad\u001b[39;49m\u001b[38;5;124;43m\"\u001b[39;49m\u001b[43m]\u001b[49m\u001b[43m,\u001b[49m\n\u001b[1;32m    234\u001b[0m \u001b[43m        \u001b[49m\u001b[43mhas_complex\u001b[49m\u001b[38;5;241;43m=\u001b[39;49m\u001b[43mhas_complex\u001b[49m\u001b[43m,\u001b[49m\n\u001b[1;32m    235\u001b[0m \u001b[43m        \u001b[49m\u001b[43mbeta1\u001b[49m\u001b[38;5;241;43m=\u001b[39;49m\u001b[43mbeta1\u001b[49m\u001b[43m,\u001b[49m\n\u001b[1;32m    236\u001b[0m \u001b[43m        \u001b[49m\u001b[43mbeta2\u001b[49m\u001b[38;5;241;43m=\u001b[39;49m\u001b[43mbeta2\u001b[49m\u001b[43m,\u001b[49m\n\u001b[1;32m    237\u001b[0m \u001b[43m        \u001b[49m\u001b[43mlr\u001b[49m\u001b[38;5;241;43m=\u001b[39;49m\u001b[43mgroup\u001b[49m\u001b[43m[\u001b[49m\u001b[38;5;124;43m\"\u001b[39;49m\u001b[38;5;124;43mlr\u001b[39;49m\u001b[38;5;124;43m\"\u001b[39;49m\u001b[43m]\u001b[49m\u001b[43m,\u001b[49m\n\u001b[1;32m    238\u001b[0m \u001b[43m        \u001b[49m\u001b[43mweight_decay\u001b[49m\u001b[38;5;241;43m=\u001b[39;49m\u001b[43mgroup\u001b[49m\u001b[43m[\u001b[49m\u001b[38;5;124;43m\"\u001b[39;49m\u001b[38;5;124;43mweight_decay\u001b[39;49m\u001b[38;5;124;43m\"\u001b[39;49m\u001b[43m]\u001b[49m\u001b[43m,\u001b[49m\n\u001b[1;32m    239\u001b[0m \u001b[43m        \u001b[49m\u001b[43meps\u001b[49m\u001b[38;5;241;43m=\u001b[39;49m\u001b[43mgroup\u001b[49m\u001b[43m[\u001b[49m\u001b[38;5;124;43m\"\u001b[39;49m\u001b[38;5;124;43meps\u001b[39;49m\u001b[38;5;124;43m\"\u001b[39;49m\u001b[43m]\u001b[49m\u001b[43m,\u001b[49m\n\u001b[1;32m    240\u001b[0m \u001b[43m        \u001b[49m\u001b[43mmaximize\u001b[49m\u001b[38;5;241;43m=\u001b[39;49m\u001b[43mgroup\u001b[49m\u001b[43m[\u001b[49m\u001b[38;5;124;43m\"\u001b[39;49m\u001b[38;5;124;43mmaximize\u001b[39;49m\u001b[38;5;124;43m\"\u001b[39;49m\u001b[43m]\u001b[49m\u001b[43m,\u001b[49m\n\u001b[1;32m    241\u001b[0m \u001b[43m        \u001b[49m\u001b[43mforeach\u001b[49m\u001b[38;5;241;43m=\u001b[39;49m\u001b[43mgroup\u001b[49m\u001b[43m[\u001b[49m\u001b[38;5;124;43m\"\u001b[39;49m\u001b[38;5;124;43mforeach\u001b[39;49m\u001b[38;5;124;43m\"\u001b[39;49m\u001b[43m]\u001b[49m\u001b[43m,\u001b[49m\n\u001b[1;32m    242\u001b[0m \u001b[43m        \u001b[49m\u001b[43mcapturable\u001b[49m\u001b[38;5;241;43m=\u001b[39;49m\u001b[43mgroup\u001b[49m\u001b[43m[\u001b[49m\u001b[38;5;124;43m\"\u001b[39;49m\u001b[38;5;124;43mcapturable\u001b[39;49m\u001b[38;5;124;43m\"\u001b[39;49m\u001b[43m]\u001b[49m\u001b[43m,\u001b[49m\n\u001b[1;32m    243\u001b[0m \u001b[43m        \u001b[49m\u001b[43mdifferentiable\u001b[49m\u001b[38;5;241;43m=\u001b[39;49m\u001b[43mgroup\u001b[49m\u001b[43m[\u001b[49m\u001b[38;5;124;43m\"\u001b[39;49m\u001b[38;5;124;43mdifferentiable\u001b[39;49m\u001b[38;5;124;43m\"\u001b[39;49m\u001b[43m]\u001b[49m\u001b[43m,\u001b[49m\n\u001b[1;32m    244\u001b[0m \u001b[43m        \u001b[49m\u001b[43mfused\u001b[49m\u001b[38;5;241;43m=\u001b[39;49m\u001b[43mgroup\u001b[49m\u001b[43m[\u001b[49m\u001b[38;5;124;43m\"\u001b[39;49m\u001b[38;5;124;43mfused\u001b[39;49m\u001b[38;5;124;43m\"\u001b[39;49m\u001b[43m]\u001b[49m\u001b[43m,\u001b[49m\n\u001b[1;32m    245\u001b[0m \u001b[43m        \u001b[49m\u001b[43mgrad_scale\u001b[49m\u001b[38;5;241;43m=\u001b[39;49m\u001b[38;5;28;43mgetattr\u001b[39;49m\u001b[43m(\u001b[49m\u001b[38;5;28;43mself\u001b[39;49m\u001b[43m,\u001b[49m\u001b[43m \u001b[49m\u001b[38;5;124;43m\"\u001b[39;49m\u001b[38;5;124;43mgrad_scale\u001b[39;49m\u001b[38;5;124;43m\"\u001b[39;49m\u001b[43m,\u001b[49m\u001b[43m \u001b[49m\u001b[38;5;28;43;01mNone\u001b[39;49;00m\u001b[43m)\u001b[49m\u001b[43m,\u001b[49m\n\u001b[1;32m    246\u001b[0m \u001b[43m        \u001b[49m\u001b[43mfound_inf\u001b[49m\u001b[38;5;241;43m=\u001b[39;49m\u001b[38;5;28;43mgetattr\u001b[39;49m\u001b[43m(\u001b[49m\u001b[38;5;28;43mself\u001b[39;49m\u001b[43m,\u001b[49m\u001b[43m \u001b[49m\u001b[38;5;124;43m\"\u001b[39;49m\u001b[38;5;124;43mfound_inf\u001b[39;49m\u001b[38;5;124;43m\"\u001b[39;49m\u001b[43m,\u001b[49m\u001b[43m \u001b[49m\u001b[38;5;28;43;01mNone\u001b[39;49;00m\u001b[43m)\u001b[49m\u001b[43m,\u001b[49m\n\u001b[1;32m    247\u001b[0m \u001b[43m    \u001b[49m\u001b[43m)\u001b[49m\n\u001b[1;32m    249\u001b[0m \u001b[38;5;28;01mreturn\u001b[39;00m loss\n",
      "File \u001b[0;32m~/.venv/lib/python3.12/site-packages/torch/optim/optimizer.py:161\u001b[0m, in \u001b[0;36m_disable_dynamo_if_unsupported.<locals>.wrapper.<locals>.maybe_fallback\u001b[0;34m(*args, **kwargs)\u001b[0m\n\u001b[1;32m    159\u001b[0m     \u001b[38;5;28;01mreturn\u001b[39;00m disabled_func(\u001b[38;5;241m*\u001b[39margs, \u001b[38;5;241m*\u001b[39m\u001b[38;5;241m*\u001b[39mkwargs)\n\u001b[1;32m    160\u001b[0m \u001b[38;5;28;01melse\u001b[39;00m:\n\u001b[0;32m--> 161\u001b[0m     \u001b[38;5;28;01mreturn\u001b[39;00m \u001b[43mfunc\u001b[49m\u001b[43m(\u001b[49m\u001b[38;5;241;43m*\u001b[39;49m\u001b[43margs\u001b[49m\u001b[43m,\u001b[49m\u001b[43m \u001b[49m\u001b[38;5;241;43m*\u001b[39;49m\u001b[38;5;241;43m*\u001b[39;49m\u001b[43mkwargs\u001b[49m\u001b[43m)\u001b[49m\n",
      "File \u001b[0;32m~/.venv/lib/python3.12/site-packages/torch/optim/adam.py:766\u001b[0m, in \u001b[0;36madam\u001b[0;34m(params, grads, exp_avgs, exp_avg_sqs, max_exp_avg_sqs, state_steps, foreach, capturable, differentiable, fused, grad_scale, found_inf, has_complex, amsgrad, beta1, beta2, lr, weight_decay, eps, maximize)\u001b[0m\n\u001b[1;32m    763\u001b[0m \u001b[38;5;28;01melse\u001b[39;00m:\n\u001b[1;32m    764\u001b[0m     func \u001b[38;5;241m=\u001b[39m _single_tensor_adam\n\u001b[0;32m--> 766\u001b[0m \u001b[43mfunc\u001b[49m\u001b[43m(\u001b[49m\n\u001b[1;32m    767\u001b[0m \u001b[43m    \u001b[49m\u001b[43mparams\u001b[49m\u001b[43m,\u001b[49m\n\u001b[1;32m    768\u001b[0m \u001b[43m    \u001b[49m\u001b[43mgrads\u001b[49m\u001b[43m,\u001b[49m\n\u001b[1;32m    769\u001b[0m \u001b[43m    \u001b[49m\u001b[43mexp_avgs\u001b[49m\u001b[43m,\u001b[49m\n\u001b[1;32m    770\u001b[0m \u001b[43m    \u001b[49m\u001b[43mexp_avg_sqs\u001b[49m\u001b[43m,\u001b[49m\n\u001b[1;32m    771\u001b[0m \u001b[43m    \u001b[49m\u001b[43mmax_exp_avg_sqs\u001b[49m\u001b[43m,\u001b[49m\n\u001b[1;32m    772\u001b[0m \u001b[43m    \u001b[49m\u001b[43mstate_steps\u001b[49m\u001b[43m,\u001b[49m\n\u001b[1;32m    773\u001b[0m \u001b[43m    \u001b[49m\u001b[43mamsgrad\u001b[49m\u001b[38;5;241;43m=\u001b[39;49m\u001b[43mamsgrad\u001b[49m\u001b[43m,\u001b[49m\n\u001b[1;32m    774\u001b[0m \u001b[43m    \u001b[49m\u001b[43mhas_complex\u001b[49m\u001b[38;5;241;43m=\u001b[39;49m\u001b[43mhas_complex\u001b[49m\u001b[43m,\u001b[49m\n\u001b[1;32m    775\u001b[0m \u001b[43m    \u001b[49m\u001b[43mbeta1\u001b[49m\u001b[38;5;241;43m=\u001b[39;49m\u001b[43mbeta1\u001b[49m\u001b[43m,\u001b[49m\n\u001b[1;32m    776\u001b[0m \u001b[43m    \u001b[49m\u001b[43mbeta2\u001b[49m\u001b[38;5;241;43m=\u001b[39;49m\u001b[43mbeta2\u001b[49m\u001b[43m,\u001b[49m\n\u001b[1;32m    777\u001b[0m \u001b[43m    \u001b[49m\u001b[43mlr\u001b[49m\u001b[38;5;241;43m=\u001b[39;49m\u001b[43mlr\u001b[49m\u001b[43m,\u001b[49m\n\u001b[1;32m    778\u001b[0m \u001b[43m    \u001b[49m\u001b[43mweight_decay\u001b[49m\u001b[38;5;241;43m=\u001b[39;49m\u001b[43mweight_decay\u001b[49m\u001b[43m,\u001b[49m\n\u001b[1;32m    779\u001b[0m \u001b[43m    \u001b[49m\u001b[43meps\u001b[49m\u001b[38;5;241;43m=\u001b[39;49m\u001b[43meps\u001b[49m\u001b[43m,\u001b[49m\n\u001b[1;32m    780\u001b[0m \u001b[43m    \u001b[49m\u001b[43mmaximize\u001b[49m\u001b[38;5;241;43m=\u001b[39;49m\u001b[43mmaximize\u001b[49m\u001b[43m,\u001b[49m\n\u001b[1;32m    781\u001b[0m \u001b[43m    \u001b[49m\u001b[43mcapturable\u001b[49m\u001b[38;5;241;43m=\u001b[39;49m\u001b[43mcapturable\u001b[49m\u001b[43m,\u001b[49m\n\u001b[1;32m    782\u001b[0m \u001b[43m    \u001b[49m\u001b[43mdifferentiable\u001b[49m\u001b[38;5;241;43m=\u001b[39;49m\u001b[43mdifferentiable\u001b[49m\u001b[43m,\u001b[49m\n\u001b[1;32m    783\u001b[0m \u001b[43m    \u001b[49m\u001b[43mgrad_scale\u001b[49m\u001b[38;5;241;43m=\u001b[39;49m\u001b[43mgrad_scale\u001b[49m\u001b[43m,\u001b[49m\n\u001b[1;32m    784\u001b[0m \u001b[43m    \u001b[49m\u001b[43mfound_inf\u001b[49m\u001b[38;5;241;43m=\u001b[39;49m\u001b[43mfound_inf\u001b[49m\u001b[43m,\u001b[49m\n\u001b[1;32m    785\u001b[0m \u001b[43m\u001b[49m\u001b[43m)\u001b[49m\n",
      "File \u001b[0;32m~/.venv/lib/python3.12/site-packages/torch/optim/adam.py:534\u001b[0m, in \u001b[0;36m_multi_tensor_adam\u001b[0;34m(params, grads, exp_avgs, exp_avg_sqs, max_exp_avg_sqs, state_steps, grad_scale, found_inf, amsgrad, has_complex, beta1, beta2, lr, weight_decay, eps, maximize, capturable, differentiable)\u001b[0m\n\u001b[1;32m    529\u001b[0m         device_grads \u001b[38;5;241m=\u001b[39m torch\u001b[38;5;241m.\u001b[39m_foreach_add(  \u001b[38;5;66;03m# type: ignore[assignment]\u001b[39;00m\n\u001b[1;32m    530\u001b[0m             device_grads, device_params, alpha\u001b[38;5;241m=\u001b[39mweight_decay\n\u001b[1;32m    531\u001b[0m         )\n\u001b[1;32m    533\u001b[0m \u001b[38;5;66;03m# Decay the first and second moment running average coefficient\u001b[39;00m\n\u001b[0;32m--> 534\u001b[0m \u001b[43mtorch\u001b[49m\u001b[38;5;241;43m.\u001b[39;49m\u001b[43m_foreach_lerp_\u001b[49m\u001b[43m(\u001b[49m\u001b[43mdevice_exp_avgs\u001b[49m\u001b[43m,\u001b[49m\u001b[43m \u001b[49m\u001b[43mdevice_grads\u001b[49m\u001b[43m,\u001b[49m\u001b[43m \u001b[49m\u001b[38;5;241;43m1\u001b[39;49m\u001b[43m \u001b[49m\u001b[38;5;241;43m-\u001b[39;49m\u001b[43m \u001b[49m\u001b[43mbeta1\u001b[49m\u001b[43m)\u001b[49m\n\u001b[1;32m    536\u001b[0m torch\u001b[38;5;241m.\u001b[39m_foreach_mul_(device_exp_avg_sqs, beta2)\n\u001b[1;32m    537\u001b[0m torch\u001b[38;5;241m.\u001b[39m_foreach_addcmul_(\n\u001b[1;32m    538\u001b[0m     device_exp_avg_sqs, device_grads, device_grads, \u001b[38;5;241m1\u001b[39m \u001b[38;5;241m-\u001b[39m beta2\n\u001b[1;32m    539\u001b[0m )\n",
      "\u001b[0;31mKeyboardInterrupt\u001b[0m: "
     ]
    }
   ],
   "source": [
    "\n",
    "for epoch in range(1, EPOCHS + 1):\n",
    "    model.train()\n",
    "    running_loss = 0.0\n",
    "    correct = 0\n",
    "    seen = 0\n",
    "\n",
    "    for x, y in train_loader:\n",
    "        x = x.to(device, non_blocking=True)\n",
    "        y = y.to(device, non_blocking=True)\n",
    "\n",
    "        optimizer.zero_grad(set_to_none=True)\n",
    "        logits = model(x)\n",
    "        loss = criterion(logits, y)\n",
    "        loss.backward()\n",
    "        optimizer.step()\n",
    "\n",
    "        running_loss += loss.item() * x.size(0)\n",
    "        correct += (logits.argmax(1) == y).sum().item()\n",
    "        seen += x.size(0)\n",
    "\n",
    "    train_loss = running_loss / max(1, seen)\n",
    "    train_acc  = correct / max(1, seen)\n",
    "\n",
    "    # Float eval vs train-mode\n",
    "    float_eval_acc      = eval_accuracy_float(model, test_loader, mode='eval')\n",
    "    float_trainmode_acc = eval_accuracy_float(model, test_loader, mode='train')\n",
    "\n",
    "    discrete_acc = float_eval_acc\n",
    "    last_epoch = epoch\n",
    "    print(f\"Epoch {epoch}: \"\n",
    "          f\"train_loss={train_loss:.4f} train_acc={train_acc:.4f} \"\n",
    "          f\"eval_test_acc={float_eval_acc:.4f} float_test_acc={float_trainmode_acc:.4f}\")\n",
    "\n",
    "    eval_acc_hist.append(float_eval_acc)\n",
    "    disc_acc_hist.append(discrete_acc)\n",
    "\n",
    "    # Append log row\n",
    "    with open(LOG_CSV, \"a\", newline=\"\") as f:\n",
    "        writer = csv.DictWriter(f, fieldnames=fieldnames)\n",
    "        writer.writerow(dict(\n",
    "            epoch=epoch, train_loss=train_loss, train_acc=train_acc,\n",
    "            float_eval_acc=float_eval_acc, float_trainmode_acc=float_trainmode_acc,\n",
    "            discrete_acc=discrete_acc, \n",
    "            BATCH_SIZE=BATCH_SIZE, GATE_OPTIMIZER=GATE_OPTIMIZER, NETWORK_LR=NETWORK_LR,\n",
    "            GUMBEL_TAU=GUMBEL_TAU, GROUP_SUM_TAU=GROUP_SUM_TAU,\n",
    "            NETWORK_LAYERS=NETWORK_LAYERS, GATES=GATES, EPOCHS=EPOCHS, RUN_ID=RUN_ID, NOISE_TEMP = NOISE_TEMP, RESIDUAL_LAYERS = RESIDUAL_LAYERS\n",
    "        ))\n"
   ]
  },
  {
   "cell_type": "markdown",
   "id": "49e126f6",
   "metadata": {},
   "source": [
    "22 epochs done"
   ]
  },
  {
   "cell_type": "code",
   "execution_count": null,
   "id": "911a3cfc",
   "metadata": {},
   "outputs": [
    {
     "data": {
      "image/png": "[encoded data removed]",
      "text/plain": [
       "<Figure size 700x400 with 1 Axes>"
      ]
     },
     "metadata": {},
     "output_type": "display_data"
    }
   ],
   "source": [
    "# ==== Plot: discrete vs float-eval accuracy ====\n",
    "plt.figure(figsize=(7, 4))\n",
    "steps = np.arange(1, len(eval_acc_hist) + 1)\n",
    "plt.plot(steps, eval_acc_hist, marker='s', linewidth=1.8, markersize=4, label='float eval')\n",
    "plt.plot(steps, disc_acc_hist, marker='s', linewidth=1.8, markersize=4, label='discrete (PackBits)')\n",
    "plt.title('CIFAR-10 Accuracy per epoch (discrete vs eval)')\n",
    "plt.xlabel('Epoch')\n",
    "plt.ylabel('Accuracy')\n",
    "plt.grid(True, linestyle='--', alpha=0.4)\n",
    "plt.legend()\n",
    "plt.tight_layout()\n",
    "plt.show()\n"
   ]
  },
  {
   "cell_type": "code",
   "execution_count": 337,
   "id": "6cd88ad8",
   "metadata": {},
   "outputs": [],
   "source": [
    "torch.save(model,f'../checkpoints/new_models/{last_epoch}_epoch_{GATE_OPTIMIZER}_{GATES}_{NETWORK_LAYERS}l_id_{RUN_ID}.pth')"
   ]
  },
  {
   "cell_type": "code",
   "execution_count": null,
   "id": "accd8d2d",
   "metadata": {},
   "outputs": [],
   "source": []
  }
 ],
 "metadata": {
  "kernelspec": {
   "display_name": ".venv",
   "language": "python",
   "name": "python3"
  },
  "language_info": {
   "codemirror_mode": {
    "name": "ipython",
    "version": 3
   },
   "file_extension": ".py",
   "mimetype": "text/x-python",
   "name": "python",
   "nbconvert_exporter": "python",
   "pygments_lexer": "ipython3",
   "version": "3.12.3"
  }
 },
 "nbformat": 4,
 "nbformat_minor": 5
}
